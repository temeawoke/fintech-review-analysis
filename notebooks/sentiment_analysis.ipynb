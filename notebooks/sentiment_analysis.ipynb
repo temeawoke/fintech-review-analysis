{
 "cells": [
  {
   "cell_type": "markdown",
   "id": "4cbd83aa",
   "metadata": {},
   "source": [
    "Step 1: Install Required Packages"
   ]
  },
  {
   "cell_type": "code",
   "execution_count": 25,
   "id": "d42e337c",
   "metadata": {},
   "outputs": [],
   "source": [
    "from google_play_scraper import reviews, Sort\n",
    "from datetime import datetime\n",
    "import pandas as pd\n",
    "import re\n",
    "from textblob import TextBlob\n",
    "from langdetect import detect\n",
    "from bertopic import BERTopic\n",
    "import os\n",
    "from transformers import pipeline\n",
    "import time\n",
    "import nltk\n",
    "from nltk.sentiment.vader import SentimentIntensityAnalyzer"
   ]
  },
  {
   "cell_type": "markdown",
   "id": "c43419d6",
   "metadata": {},
   "source": [
    "🏦 Step 2: Get App Package Names\n",
    "\n",
    "First, find the correct package names from Google Play Store:"
   ]
  },
  {
   "cell_type": "markdown",
   "id": "ceda2885",
   "metadata": {},
   "source": [
    "📥 Step 3: Scrape Reviews for Each Bank"
   ]
  },
  {
   "cell_type": "code",
   "execution_count": null,
   "id": "45e44681",
   "metadata": {},
   "outputs": [
    {
     "name": "stdout",
     "output_type": "stream",
     "text": [
      "✅ Reviews saved to 'data/bank_reviews_cleaned.csv'\n"
     ]
    }
   ],
   "source": [
    "\n",
    "# Dictionary mapping bank names to their Google Play app IDs\n",
    "banks = {\n",
    "    \"Commercial Bank of Ethiopia\": \"com.combanketh.mobilebanking\",\n",
    "    \"Bank of Abyssinia\":\"com.boa.boaMobileBanking\",\n",
    "    \"Dashen Bank\": \"com.dashen.dashensuperapp\"\n",
    "}\n",
    "\n",
    "\n",
    "# Function to scrape and extract relevant review data\n",
    "def scrape_reviews(app_id, bank_name, num_reviews=400):\n",
    "    all_reviews = []\n",
    "    token = None\n",
    "\n",
    "    while len(all_reviews) < num_reviews:\n",
    "        batch, token = reviews(\n",
    "            app_id,\n",
    "            lang='en',\n",
    "            country='et',\n",
    "            sort=Sort.NEWEST,\n",
    "            count=400,\n",
    "            continuation_token=token\n",
    "        )\n",
    "        all_reviews.extend(batch)\n",
    "        if not token:\n",
    "            break\n",
    "        time.sleep(1)\n",
    "\n",
    "    # Extract and format required fields\n",
    "    data = []\n",
    "    for r in all_reviews[:num_reviews]:\n",
    "        data.append({\n",
    "            'review': r['content'],\n",
    "            'rating': r['score'],\n",
    "            'date': r['at'].strftime('%Y-%m-%d'),\n",
    "            'bank': bank_name,\n",
    "            'source': 'Google Play'\n",
    "        })\n",
    "\n",
    "    return pd.DataFrame(data)\n",
    "\n",
    "# Scrape reviews for all banks\n",
    "all_dfs = []\n",
    "for bank, app_id in banks.items():\n",
    "    df = scrape_reviews(app_id, bank)\n",
    "    all_dfs.append(df)\n",
    "\n",
    "# Combine and save\n",
    "final_df = pd.concat(all_dfs, ignore_index=True)\n",
    "os.makedirs(\"data\", exist_ok=True)\n",
    "\n",
    "# Drop duplicates and handle missing values\n",
    "df.drop_duplicates(subset=[\"review\", \"bank\"], inplace=True)\n",
    "df.dropna(subset=[\"review\", \"rating\", \"date\"], inplace=True)\n",
    "\n",
    "# Save to CSV\n",
    "final_df.to_csv(\"data/bank_reviews_cleaned.csv\", index=False)\n",
    "\n",
    "print(\"✅ Reviews saved to 'data/bank_reviews_cleaned.csv'\")\n",
    "\n"
   ]
  },
  {
   "cell_type": "markdown",
   "id": "5854fe7d",
   "metadata": {},
   "source": [
    "Sentiment Analysis Script"
   ]
  },
  {
   "cell_type": "code",
   "execution_count": 19,
   "id": "3b8fdae9",
   "metadata": {},
   "outputs": [
    {
     "name": "stderr",
     "output_type": "stream",
     "text": [
      "[nltk_data] Downloading package vader_lexicon to\n",
      "[nltk_data]     C:\\Users\\USED\\AppData\\Roaming\\nltk_data...\n",
      "[nltk_data]   Package vader_lexicon is already up-to-date!\n"
     ]
    },
    {
     "data": {
      "text/plain": [
       "True"
      ]
     },
     "execution_count": 19,
     "metadata": {},
     "output_type": "execute_result"
    }
   ],
   "source": [
    "# Download VADER lexicon if not already\n",
    "nltk.download('vader_lexicon')\n"
   ]
  },
  {
   "cell_type": "code",
   "execution_count": 20,
   "id": "b20addc4",
   "metadata": {},
   "outputs": [],
   "source": [
    "# Load cleaned reviews\n",
    "df = pd.read_csv(\"data/bank_reviews_cleaned.csv\")"
   ]
  },
  {
   "cell_type": "code",
   "execution_count": 22,
   "id": "0b319bfc",
   "metadata": {},
   "outputs": [],
   "source": [
    "# Initialize VADER\n",
    "sid = SentimentIntensityAnalyzer()\n",
    "\n",
    "# Function to classify sentiment\n",
    "def classify_sentiment(text):\n",
    "    score = sid.polarity_scores(str(text))['compound']\n",
    "    if score >= 0.05:\n",
    "        return 'Positive'\n",
    "    elif score <= -0.05:\n",
    "        return 'Negative'\n",
    "    else:\n",
    "        return 'Neutral'"
   ]
  },
  {
   "cell_type": "code",
   "execution_count": null,
   "id": "f04bdc9b",
   "metadata": {},
   "outputs": [],
   "source": []
  }
 ],
 "metadata": {
  "kernelspec": {
   "display_name": "venv",
   "language": "python",
   "name": "python3"
  },
  "language_info": {
   "codemirror_mode": {
    "name": "ipython",
    "version": 3
   },
   "file_extension": ".py",
   "mimetype": "text/x-python",
   "name": "python",
   "nbconvert_exporter": "python",
   "pygments_lexer": "ipython3",
   "version": "3.12.5"
  }
 },
 "nbformat": 4,
 "nbformat_minor": 5
}
